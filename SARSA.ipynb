{
 "cells": [
  {
   "cell_type": "markdown",
   "id": "0e9eb637",
   "metadata": {},
   "source": [
    "# Assignment 2 "
   ]
  },
  {
   "cell_type": "markdown",
   "id": "71864714",
   "metadata": {},
   "source": [
    "<div style=\"border-bottom: 3px solid black; margin-bottom:5px\"></div>\n",
    "<div style=\"border-bottom: 3px solid black; margin-bottom:5px\"></div>\n",
    "\n",
    "\n",
    "## Importing packages"
   ]
  },
  {
   "cell_type": "code",
   "execution_count": 32,
   "id": "8c83e28f",
   "metadata": {},
   "outputs": [],
   "source": [
    "import gymnasium as gym\n",
    "import pandas as pd\n",
    "import numpy as np\n",
    "import matplotlib.pyplot as plt\n",
    "import math\n",
    "import random\n",
    "import os\n",
    "\n",
    "\n",
    "os.environ[\"KMP_DUPLICATE_LIB_OK\"] = \"TRUE\"\n",
    "rnd = np.random.default_rng(112233)"
   ]
  },
  {
   "cell_type": "markdown",
   "id": "e840e064",
   "metadata": {},
   "source": [
    "<div style=\"border-bottom: 3px solid black; margin-bottom:5px\"></div>\n",
    "<div style=\"border-bottom: 3px solid black; margin-bottom:5px\"></div>\n",
    "\n",
    "## Building Frozen lake (SARSA)"
   ]
  },
  {
   "cell_type": "code",
   "execution_count": 33,
   "id": "9de9b31f",
   "metadata": {},
   "outputs": [],
   "source": [
    "env = gym.make('FrozenLake-v1', desc=None, map_name=\"4x4\", is_slippery=True, render_mode='ansi')\n",
    "\n",
    "matrix = np.zeros((env.observation_space.n, env.action_space.n))"
   ]
  },
  {
   "cell_type": "markdown",
   "id": "bf15ea05",
   "metadata": {},
   "source": [
    "<div style=\"border-bottom: 3px solid black; margin-bottom:5px\"></div>\n",
    "\n",
    "## Building Sarsa class"
   ]
  },
  {
   "cell_type": "code",
   "execution_count": 34,
   "id": "895509ed",
   "metadata": {},
   "outputs": [],
   "source": [
    "class sarsa():\n",
    "    def __init__(self, decision_matrix, alpha=.85, gamma=.95, temperature=.05, expected=False):\n",
    "        self.a = alpha\n",
    "        self.g = gamma\n",
    "        self.q = decision_matrix\n",
    "        self.temp = temperature\n",
    "        self.expected = expected\n",
    "\n",
    "        return\n",
    "\n",
    "    def update(self, reward, state, action, next_state, next_action=None):  # next action can be none in the expected\n",
    "\n",
    "        if self.expected: \n",
    "            self.q[state, action] = self.q[state, action] + self.a * (\n",
    "                    reward + self.g * np.sum(self.q[next_state, :] * self.boltzmann(next_state))\n",
    "                    - self.q[state, action])\n",
    "        else:\n",
    "            self.q[state, action] = self.q[state, action] + self.a * (\n",
    "                    reward + self.g * self.q[next_state, next_action] - self.q[state, action])\n",
    "\n",
    "        return None\n",
    "\n",
    "    def choose(self, env, state, greedy):\n",
    "\n",
    "        if np.max(self.q[state]) == 0:\n",
    "            # random sampling\n",
    "            chosen = rnd.choice(list(range(env.action_space.n)))\n",
    "        elif greedy or (self.temp <= 0):  # temp 0 means greedy, and cannot go to boltzmann to avoid division by 0\n",
    "            # greedy choice\n",
    "            chosen = np.argmax(self.q[state])\n",
    "        else:\n",
    "            # boltzmann probability\n",
    "            prob = self.boltzmann(state)\n",
    "            chosen = rnd.choice(list(range(env.action_space.n)), p=prob)\n",
    "\n",
    "        return chosen\n",
    "\n",
    "    def boltzmann(self, state):\n",
    "        actions = np.divide(self.q[state], self.temp)\n",
    "        upper = np.exp(actions)\n",
    "        lower = np.sum(upper)\n",
    "        return upper / lower\n",
    "\n",
    "        "
   ]
  },
  {
   "cell_type": "markdown",
   "id": "2713ea36",
   "metadata": {},
   "source": [
    "<div style=\"border-bottom: 3px solid black; margin-bottom:5px\"></div>\n",
    "\n",
    "## Building the training process"
   ]
  },
  {
   "cell_type": "code",
   "execution_count": 40,
   "id": "f6b697b4",
   "metadata": {},
   "outputs": [],
   "source": [
    "# defining one episode\n",
    "def episode(model, env, greedy=0):\n",
    "    env.reset()\n",
    "    state = 0  # initializing the state\n",
    "    ended = False\n",
    "    reward = 0\n",
    "\n",
    "    if not model.expected:\n",
    "        # Choose A from S\n",
    "        action = model.choose(env, state, greedy)\n",
    "\n",
    "    while not ended:\n",
    "\n",
    "        if model.expected:\n",
    "            # Choose A from S\n",
    "            action = model.choose(env, state, greedy)\n",
    "\n",
    "        # take A from S and get S'\n",
    "        new_state, reward, ended, time_limit, prob = env.step(action)\n",
    "\n",
    "        if model.expected:\n",
    "            model.update(reward, state, action, new_state, None)\n",
    "        else:\n",
    "            # choose A' from S'\n",
    "            new_action = model.choose(env, new_state, greedy)\n",
    "\n",
    "            model.update(reward, state, action, new_state, new_action)\n",
    "            # A <- A'\n",
    "            action = new_action\n",
    "\n",
    "        # S <- S'\n",
    "        state = new_state\n",
    "\n",
    "        if time_limit:\n",
    "            break\n",
    "\n",
    "    return reward, greedy"
   ]
  },
  {
   "cell_type": "code",
   "execution_count": 41,
   "id": "25d284fa",
   "metadata": {},
   "outputs": [],
   "source": [
    "# defining process for each of the segments\n",
    "def segment(model, env, training, verbose):\n",
    "    rewards = []\n",
    "    modes = []\n",
    "\n",
    "    for i, mode in enumerate(training):\n",
    "        if verbose:\n",
    "            print(f\"-{i + 1}\", end='')\n",
    "        episode_result, episode_mode = episode(model, env, mode)\n",
    "        rewards.append(episode_result)\n",
    "        modes.append(episode_mode)\n",
    "\n",
    "    return rewards, modes"
   ]
  },
  {
   "cell_type": "code",
   "execution_count": 42,
   "id": "281d21fd",
   "metadata": {},
   "outputs": [],
   "source": [
    "# defining process for each of the runs\n",
    "def run(model, env, segments_n=500, training=np.append(np.zeros(10), [1]), verbose=True):\n",
    "    rewards = []\n",
    "    modes = []\n",
    "\n",
    "    for i, mode in enumerate(range(segments_n)):\n",
    "        if verbose:\n",
    "            print(f\"\\n{i + 1}th Segment:\", end='')\n",
    "\n",
    "        a, b = segment(model, env, training, verbose)\n",
    "        rewards += a\n",
    "        modes += b\n",
    "\n",
    "    return rewards, modes"
   ]
  },
  {
   "cell_type": "markdown",
   "id": "b84f623d",
   "metadata": {},
   "source": [
    "<div style=\"border-bottom: 3px solid black; margin-bottom:5px\"></div>\n",
    "<div style=\"border-bottom: 3px solid black; margin-bottom:5px\"></div>\n",
    "\n",
    "\n",
    "## Running the model"
   ]
  },
  {
   "cell_type": "code",
   "execution_count": 43,
   "id": "c47ac449",
   "metadata": {},
   "outputs": [],
   "source": [
    "# configurations\n",
    "\n",
    "temperatures = [.0, .1, .01]\n",
    "learning_rates = [.15, .5, .85]\n",
    "model_name = ['classic', 'expected']\n",
    "n_runs = 10\n",
    "rolling_window = 10\n",
    "\n",
    "training_size = 10\n",
    "testing_size = 1\n"
   ]
  },
  {
   "cell_type": "code",
   "execution_count": 44,
   "id": "97f02fc6",
   "metadata": {},
   "outputs": [
    {
     "name": "stdout",
     "output_type": "stream",
     "text": [
      "classic - 0.15 - 0.0 - 0\n",
      "classic - 0.15 - 0.0 - 1\n",
      "classic - 0.15 - 0.0 - 2\n",
      "classic - 0.15 - 0.0 - 3\n",
      "classic - 0.15 - 0.0 - 4\n",
      "classic - 0.15 - 0.0 - 5\n",
      "classic - 0.15 - 0.0 - 6\n",
      "classic - 0.15 - 0.0 - 7\n",
      "classic - 0.15 - 0.0 - 8\n",
      "classic - 0.15 - 0.0 - 9\n",
      "classic - 0.15 - 0.1 - 0\n",
      "classic - 0.15 - 0.1 - 1\n",
      "classic - 0.15 - 0.1 - 2\n",
      "classic - 0.15 - 0.1 - 3\n",
      "classic - 0.15 - 0.1 - 4\n",
      "classic - 0.15 - 0.1 - 5\n",
      "classic - 0.15 - 0.1 - 6\n",
      "classic - 0.15 - 0.1 - 7\n",
      "classic - 0.15 - 0.1 - 8\n",
      "classic - 0.15 - 0.1 - 9\n",
      "classic - 0.15 - 0.01 - 0\n",
      "classic - 0.15 - 0.01 - 1\n",
      "classic - 0.15 - 0.01 - 2\n",
      "classic - 0.15 - 0.01 - 3\n",
      "classic - 0.15 - 0.01 - 4\n",
      "classic - 0.15 - 0.01 - 5\n",
      "classic - 0.15 - 0.01 - 6\n",
      "classic - 0.15 - 0.01 - 7\n",
      "classic - 0.15 - 0.01 - 8\n",
      "classic - 0.15 - 0.01 - 9\n",
      "classic - 0.5 - 0.0 - 0\n",
      "classic - 0.5 - 0.0 - 1\n",
      "classic - 0.5 - 0.0 - 2\n",
      "classic - 0.5 - 0.0 - 3\n",
      "classic - 0.5 - 0.0 - 4\n",
      "classic - 0.5 - 0.0 - 5\n",
      "classic - 0.5 - 0.0 - 6\n",
      "classic - 0.5 - 0.0 - 7\n",
      "classic - 0.5 - 0.0 - 8\n",
      "classic - 0.5 - 0.0 - 9\n",
      "classic - 0.5 - 0.1 - 0\n",
      "classic - 0.5 - 0.1 - 1\n",
      "classic - 0.5 - 0.1 - 2\n",
      "classic - 0.5 - 0.1 - 3\n",
      "classic - 0.5 - 0.1 - 4\n",
      "classic - 0.5 - 0.1 - 5\n",
      "classic - 0.5 - 0.1 - 6\n",
      "classic - 0.5 - 0.1 - 7\n",
      "classic - 0.5 - 0.1 - 8\n",
      "classic - 0.5 - 0.1 - 9\n",
      "classic - 0.5 - 0.01 - 0\n",
      "classic - 0.5 - 0.01 - 1\n",
      "classic - 0.5 - 0.01 - 2\n",
      "classic - 0.5 - 0.01 - 3\n",
      "classic - 0.5 - 0.01 - 4\n",
      "classic - 0.5 - 0.01 - 5\n",
      "classic - 0.5 - 0.01 - 6\n",
      "classic - 0.5 - 0.01 - 7\n",
      "classic - 0.5 - 0.01 - 8\n",
      "classic - 0.5 - 0.01 - 9\n",
      "classic - 0.85 - 0.0 - 0\n",
      "classic - 0.85 - 0.0 - 1\n",
      "classic - 0.85 - 0.0 - 2\n",
      "classic - 0.85 - 0.0 - 3\n",
      "classic - 0.85 - 0.0 - 4\n",
      "classic - 0.85 - 0.0 - 5\n",
      "classic - 0.85 - 0.0 - 6\n",
      "classic - 0.85 - 0.0 - 7\n",
      "classic - 0.85 - 0.0 - 8\n",
      "classic - 0.85 - 0.0 - 9\n",
      "classic - 0.85 - 0.1 - 0\n",
      "classic - 0.85 - 0.1 - 1\n",
      "classic - 0.85 - 0.1 - 2\n",
      "classic - 0.85 - 0.1 - 3\n",
      "classic - 0.85 - 0.1 - 4\n",
      "classic - 0.85 - 0.1 - 5\n",
      "classic - 0.85 - 0.1 - 6\n",
      "classic - 0.85 - 0.1 - 7\n",
      "classic - 0.85 - 0.1 - 8\n",
      "classic - 0.85 - 0.1 - 9\n",
      "classic - 0.85 - 0.01 - 0\n",
      "classic - 0.85 - 0.01 - 1\n",
      "classic - 0.85 - 0.01 - 2\n",
      "classic - 0.85 - 0.01 - 3\n",
      "classic - 0.85 - 0.01 - 4\n",
      "classic - 0.85 - 0.01 - 5\n",
      "classic - 0.85 - 0.01 - 6\n",
      "classic - 0.85 - 0.01 - 7\n",
      "classic - 0.85 - 0.01 - 8\n",
      "classic - 0.85 - 0.01 - 9\n",
      "expected - 0.15 - 0.0 - 0\n"
     ]
    },
    {
     "name": "stderr",
     "output_type": "stream",
     "text": [
      "C:\\Users\\almei\\AppData\\Local\\Temp\\ipykernel_22592\\2531157727.py:39: RuntimeWarning: invalid value encountered in true_divide\n",
      "  actions = np.divide(self.q[state], self.temp)\n"
     ]
    },
    {
     "name": "stdout",
     "output_type": "stream",
     "text": [
      "expected - 0.15 - 0.0 - 1\n"
     ]
    },
    {
     "name": "stderr",
     "output_type": "stream",
     "text": [
      "C:\\Users\\almei\\AppData\\Local\\Temp\\ipykernel_22592\\2531157727.py:39: RuntimeWarning: invalid value encountered in true_divide\n",
      "  actions = np.divide(self.q[state], self.temp)\n"
     ]
    },
    {
     "name": "stdout",
     "output_type": "stream",
     "text": [
      "expected - 0.15 - 0.0 - 2\n"
     ]
    },
    {
     "name": "stderr",
     "output_type": "stream",
     "text": [
      "C:\\Users\\almei\\AppData\\Local\\Temp\\ipykernel_22592\\2531157727.py:39: RuntimeWarning: invalid value encountered in true_divide\n",
      "  actions = np.divide(self.q[state], self.temp)\n"
     ]
    },
    {
     "name": "stdout",
     "output_type": "stream",
     "text": [
      "expected - 0.15 - 0.0 - 3\n"
     ]
    },
    {
     "name": "stderr",
     "output_type": "stream",
     "text": [
      "C:\\Users\\almei\\AppData\\Local\\Temp\\ipykernel_22592\\2531157727.py:39: RuntimeWarning: invalid value encountered in true_divide\n",
      "  actions = np.divide(self.q[state], self.temp)\n"
     ]
    },
    {
     "name": "stdout",
     "output_type": "stream",
     "text": [
      "expected - 0.15 - 0.0 - 4\n"
     ]
    },
    {
     "name": "stderr",
     "output_type": "stream",
     "text": [
      "C:\\Users\\almei\\AppData\\Local\\Temp\\ipykernel_22592\\2531157727.py:39: RuntimeWarning: invalid value encountered in true_divide\n",
      "  actions = np.divide(self.q[state], self.temp)\n"
     ]
    },
    {
     "name": "stdout",
     "output_type": "stream",
     "text": [
      "expected - 0.15 - 0.0 - 5\n"
     ]
    },
    {
     "name": "stderr",
     "output_type": "stream",
     "text": [
      "C:\\Users\\almei\\AppData\\Local\\Temp\\ipykernel_22592\\2531157727.py:39: RuntimeWarning: invalid value encountered in true_divide\n",
      "  actions = np.divide(self.q[state], self.temp)\n"
     ]
    },
    {
     "name": "stdout",
     "output_type": "stream",
     "text": [
      "expected - 0.15 - 0.0 - 6\n"
     ]
    },
    {
     "name": "stderr",
     "output_type": "stream",
     "text": [
      "C:\\Users\\almei\\AppData\\Local\\Temp\\ipykernel_22592\\2531157727.py:39: RuntimeWarning: invalid value encountered in true_divide\n",
      "  actions = np.divide(self.q[state], self.temp)\n"
     ]
    },
    {
     "name": "stdout",
     "output_type": "stream",
     "text": [
      "expected - 0.15 - 0.0 - 7\n"
     ]
    },
    {
     "name": "stderr",
     "output_type": "stream",
     "text": [
      "C:\\Users\\almei\\AppData\\Local\\Temp\\ipykernel_22592\\2531157727.py:39: RuntimeWarning: invalid value encountered in true_divide\n",
      "  actions = np.divide(self.q[state], self.temp)\n"
     ]
    },
    {
     "name": "stdout",
     "output_type": "stream",
     "text": [
      "expected - 0.15 - 0.0 - 8\n"
     ]
    },
    {
     "name": "stderr",
     "output_type": "stream",
     "text": [
      "C:\\Users\\almei\\AppData\\Local\\Temp\\ipykernel_22592\\2531157727.py:39: RuntimeWarning: invalid value encountered in true_divide\n",
      "  actions = np.divide(self.q[state], self.temp)\n"
     ]
    },
    {
     "name": "stdout",
     "output_type": "stream",
     "text": [
      "expected - 0.15 - 0.0 - 9\n"
     ]
    },
    {
     "name": "stderr",
     "output_type": "stream",
     "text": [
      "C:\\Users\\almei\\AppData\\Local\\Temp\\ipykernel_22592\\2531157727.py:39: RuntimeWarning: invalid value encountered in true_divide\n",
      "  actions = np.divide(self.q[state], self.temp)\n"
     ]
    },
    {
     "name": "stdout",
     "output_type": "stream",
     "text": [
      "expected - 0.15 - 0.1 - 0\n",
      "expected - 0.15 - 0.1 - 1\n",
      "expected - 0.15 - 0.1 - 2\n",
      "expected - 0.15 - 0.1 - 3\n",
      "expected - 0.15 - 0.1 - 4\n",
      "expected - 0.15 - 0.1 - 5\n",
      "expected - 0.15 - 0.1 - 6\n",
      "expected - 0.15 - 0.1 - 7\n",
      "expected - 0.15 - 0.1 - 8\n",
      "expected - 0.15 - 0.1 - 9\n",
      "expected - 0.15 - 0.01 - 0\n",
      "expected - 0.15 - 0.01 - 1\n",
      "expected - 0.15 - 0.01 - 2\n",
      "expected - 0.15 - 0.01 - 3\n",
      "expected - 0.15 - 0.01 - 4\n",
      "expected - 0.15 - 0.01 - 5\n",
      "expected - 0.15 - 0.01 - 6\n",
      "expected - 0.15 - 0.01 - 7\n",
      "expected - 0.15 - 0.01 - 8\n",
      "expected - 0.15 - 0.01 - 9\n",
      "expected - 0.5 - 0.0 - 0\n"
     ]
    },
    {
     "name": "stderr",
     "output_type": "stream",
     "text": [
      "C:\\Users\\almei\\AppData\\Local\\Temp\\ipykernel_22592\\2531157727.py:39: RuntimeWarning: invalid value encountered in true_divide\n",
      "  actions = np.divide(self.q[state], self.temp)\n"
     ]
    },
    {
     "name": "stdout",
     "output_type": "stream",
     "text": [
      "expected - 0.5 - 0.0 - 1\n"
     ]
    },
    {
     "name": "stderr",
     "output_type": "stream",
     "text": [
      "C:\\Users\\almei\\AppData\\Local\\Temp\\ipykernel_22592\\2531157727.py:39: RuntimeWarning: invalid value encountered in true_divide\n",
      "  actions = np.divide(self.q[state], self.temp)\n"
     ]
    },
    {
     "name": "stdout",
     "output_type": "stream",
     "text": [
      "expected - 0.5 - 0.0 - 2\n"
     ]
    },
    {
     "name": "stderr",
     "output_type": "stream",
     "text": [
      "C:\\Users\\almei\\AppData\\Local\\Temp\\ipykernel_22592\\2531157727.py:39: RuntimeWarning: invalid value encountered in true_divide\n",
      "  actions = np.divide(self.q[state], self.temp)\n"
     ]
    },
    {
     "name": "stdout",
     "output_type": "stream",
     "text": [
      "expected - 0.5 - 0.0 - 3\n"
     ]
    },
    {
     "name": "stderr",
     "output_type": "stream",
     "text": [
      "C:\\Users\\almei\\AppData\\Local\\Temp\\ipykernel_22592\\2531157727.py:39: RuntimeWarning: invalid value encountered in true_divide\n",
      "  actions = np.divide(self.q[state], self.temp)\n"
     ]
    },
    {
     "name": "stdout",
     "output_type": "stream",
     "text": [
      "expected - 0.5 - 0.0 - 4\n"
     ]
    },
    {
     "name": "stderr",
     "output_type": "stream",
     "text": [
      "C:\\Users\\almei\\AppData\\Local\\Temp\\ipykernel_22592\\2531157727.py:39: RuntimeWarning: invalid value encountered in true_divide\n",
      "  actions = np.divide(self.q[state], self.temp)\n"
     ]
    },
    {
     "name": "stdout",
     "output_type": "stream",
     "text": [
      "expected - 0.5 - 0.0 - 5\n"
     ]
    },
    {
     "name": "stderr",
     "output_type": "stream",
     "text": [
      "C:\\Users\\almei\\AppData\\Local\\Temp\\ipykernel_22592\\2531157727.py:39: RuntimeWarning: invalid value encountered in true_divide\n",
      "  actions = np.divide(self.q[state], self.temp)\n"
     ]
    },
    {
     "name": "stdout",
     "output_type": "stream",
     "text": [
      "expected - 0.5 - 0.0 - 6\n"
     ]
    },
    {
     "name": "stderr",
     "output_type": "stream",
     "text": [
      "C:\\Users\\almei\\AppData\\Local\\Temp\\ipykernel_22592\\2531157727.py:39: RuntimeWarning: invalid value encountered in true_divide\n",
      "  actions = np.divide(self.q[state], self.temp)\n"
     ]
    },
    {
     "name": "stdout",
     "output_type": "stream",
     "text": [
      "expected - 0.5 - 0.0 - 7\n"
     ]
    },
    {
     "name": "stderr",
     "output_type": "stream",
     "text": [
      "C:\\Users\\almei\\AppData\\Local\\Temp\\ipykernel_22592\\2531157727.py:39: RuntimeWarning: invalid value encountered in true_divide\n",
      "  actions = np.divide(self.q[state], self.temp)\n"
     ]
    },
    {
     "name": "stdout",
     "output_type": "stream",
     "text": [
      "expected - 0.5 - 0.0 - 8\n"
     ]
    },
    {
     "name": "stderr",
     "output_type": "stream",
     "text": [
      "C:\\Users\\almei\\AppData\\Local\\Temp\\ipykernel_22592\\2531157727.py:39: RuntimeWarning: invalid value encountered in true_divide\n",
      "  actions = np.divide(self.q[state], self.temp)\n"
     ]
    },
    {
     "name": "stdout",
     "output_type": "stream",
     "text": [
      "expected - 0.5 - 0.0 - 9\n"
     ]
    },
    {
     "name": "stderr",
     "output_type": "stream",
     "text": [
      "C:\\Users\\almei\\AppData\\Local\\Temp\\ipykernel_22592\\2531157727.py:39: RuntimeWarning: invalid value encountered in true_divide\n",
      "  actions = np.divide(self.q[state], self.temp)\n"
     ]
    },
    {
     "name": "stdout",
     "output_type": "stream",
     "text": [
      "expected - 0.5 - 0.1 - 0\n",
      "expected - 0.5 - 0.1 - 1\n",
      "expected - 0.5 - 0.1 - 2\n",
      "expected - 0.5 - 0.1 - 3\n",
      "expected - 0.5 - 0.1 - 4\n",
      "expected - 0.5 - 0.1 - 5\n",
      "expected - 0.5 - 0.1 - 6\n",
      "expected - 0.5 - 0.1 - 7\n",
      "expected - 0.5 - 0.1 - 8\n",
      "expected - 0.5 - 0.1 - 9\n",
      "expected - 0.5 - 0.01 - 0\n",
      "expected - 0.5 - 0.01 - 1\n",
      "expected - 0.5 - 0.01 - 2\n",
      "expected - 0.5 - 0.01 - 3\n",
      "expected - 0.5 - 0.01 - 4\n",
      "expected - 0.5 - 0.01 - 5\n",
      "expected - 0.5 - 0.01 - 6\n",
      "expected - 0.5 - 0.01 - 7\n",
      "expected - 0.5 - 0.01 - 8\n",
      "expected - 0.5 - 0.01 - 9\n",
      "expected - 0.85 - 0.0 - 0\n"
     ]
    },
    {
     "name": "stderr",
     "output_type": "stream",
     "text": [
      "C:\\Users\\almei\\AppData\\Local\\Temp\\ipykernel_22592\\2531157727.py:39: RuntimeWarning: invalid value encountered in true_divide\n",
      "  actions = np.divide(self.q[state], self.temp)\n"
     ]
    },
    {
     "name": "stdout",
     "output_type": "stream",
     "text": [
      "expected - 0.85 - 0.0 - 1\n"
     ]
    },
    {
     "name": "stderr",
     "output_type": "stream",
     "text": [
      "C:\\Users\\almei\\AppData\\Local\\Temp\\ipykernel_22592\\2531157727.py:39: RuntimeWarning: invalid value encountered in true_divide\n",
      "  actions = np.divide(self.q[state], self.temp)\n"
     ]
    },
    {
     "name": "stdout",
     "output_type": "stream",
     "text": [
      "expected - 0.85 - 0.0 - 2\n"
     ]
    },
    {
     "name": "stderr",
     "output_type": "stream",
     "text": [
      "C:\\Users\\almei\\AppData\\Local\\Temp\\ipykernel_22592\\2531157727.py:39: RuntimeWarning: invalid value encountered in true_divide\n",
      "  actions = np.divide(self.q[state], self.temp)\n"
     ]
    },
    {
     "name": "stdout",
     "output_type": "stream",
     "text": [
      "expected - 0.85 - 0.0 - 3\n"
     ]
    },
    {
     "name": "stderr",
     "output_type": "stream",
     "text": [
      "C:\\Users\\almei\\AppData\\Local\\Temp\\ipykernel_22592\\2531157727.py:39: RuntimeWarning: invalid value encountered in true_divide\n",
      "  actions = np.divide(self.q[state], self.temp)\n"
     ]
    },
    {
     "name": "stdout",
     "output_type": "stream",
     "text": [
      "expected - 0.85 - 0.0 - 4\n"
     ]
    },
    {
     "name": "stderr",
     "output_type": "stream",
     "text": [
      "C:\\Users\\almei\\AppData\\Local\\Temp\\ipykernel_22592\\2531157727.py:39: RuntimeWarning: invalid value encountered in true_divide\n",
      "  actions = np.divide(self.q[state], self.temp)\n"
     ]
    },
    {
     "name": "stdout",
     "output_type": "stream",
     "text": [
      "expected - 0.85 - 0.0 - 5\n"
     ]
    },
    {
     "name": "stderr",
     "output_type": "stream",
     "text": [
      "C:\\Users\\almei\\AppData\\Local\\Temp\\ipykernel_22592\\2531157727.py:39: RuntimeWarning: invalid value encountered in true_divide\n",
      "  actions = np.divide(self.q[state], self.temp)\n"
     ]
    },
    {
     "name": "stdout",
     "output_type": "stream",
     "text": [
      "expected - 0.85 - 0.0 - 6\n"
     ]
    },
    {
     "name": "stderr",
     "output_type": "stream",
     "text": [
      "C:\\Users\\almei\\AppData\\Local\\Temp\\ipykernel_22592\\2531157727.py:39: RuntimeWarning: invalid value encountered in true_divide\n",
      "  actions = np.divide(self.q[state], self.temp)\n"
     ]
    },
    {
     "name": "stdout",
     "output_type": "stream",
     "text": [
      "expected - 0.85 - 0.0 - 7\n"
     ]
    },
    {
     "name": "stderr",
     "output_type": "stream",
     "text": [
      "C:\\Users\\almei\\AppData\\Local\\Temp\\ipykernel_22592\\2531157727.py:39: RuntimeWarning: invalid value encountered in true_divide\n",
      "  actions = np.divide(self.q[state], self.temp)\n"
     ]
    },
    {
     "name": "stdout",
     "output_type": "stream",
     "text": [
      "expected - 0.85 - 0.0 - 8\n"
     ]
    },
    {
     "name": "stderr",
     "output_type": "stream",
     "text": [
      "C:\\Users\\almei\\AppData\\Local\\Temp\\ipykernel_22592\\2531157727.py:39: RuntimeWarning: invalid value encountered in true_divide\n",
      "  actions = np.divide(self.q[state], self.temp)\n"
     ]
    },
    {
     "name": "stdout",
     "output_type": "stream",
     "text": [
      "expected - 0.85 - 0.0 - 9\n"
     ]
    },
    {
     "name": "stderr",
     "output_type": "stream",
     "text": [
      "C:\\Users\\almei\\AppData\\Local\\Temp\\ipykernel_22592\\2531157727.py:39: RuntimeWarning: invalid value encountered in true_divide\n",
      "  actions = np.divide(self.q[state], self.temp)\n"
     ]
    },
    {
     "name": "stdout",
     "output_type": "stream",
     "text": [
      "expected - 0.85 - 0.1 - 0\n",
      "expected - 0.85 - 0.1 - 1\n",
      "expected - 0.85 - 0.1 - 2\n",
      "expected - 0.85 - 0.1 - 3\n",
      "expected - 0.85 - 0.1 - 4\n",
      "expected - 0.85 - 0.1 - 5\n",
      "expected - 0.85 - 0.1 - 6\n",
      "expected - 0.85 - 0.1 - 7\n",
      "expected - 0.85 - 0.1 - 8\n",
      "expected - 0.85 - 0.1 - 9\n",
      "expected - 0.85 - 0.01 - 0\n",
      "expected - 0.85 - 0.01 - 1\n",
      "expected - 0.85 - 0.01 - 2\n",
      "expected - 0.85 - 0.01 - 3\n",
      "expected - 0.85 - 0.01 - 4\n",
      "expected - 0.85 - 0.01 - 5\n",
      "expected - 0.85 - 0.01 - 6\n",
      "expected - 0.85 - 0.01 - 7\n",
      "expected - 0.85 - 0.01 - 8\n",
      "expected - 0.85 - 0.01 - 9\n"
     ]
    }
   ],
   "source": [
    "# Running the model\n",
    "df = None\n",
    "for type_ in model_name:\n",
    "    for alpha in learning_rates:\n",
    "        for temp in temperatures:\n",
    "            bool_type = True if type_ == 'expected' else False\n",
    "            for i in range(n_runs):\n",
    "                print(f\"{type_} - {alpha} - {temp} - {i}\")\n",
    "                n_model = sarsa(matrix.copy(), alpha=alpha, temperature=temp, expected=bool_type)\n",
    "                rewards, modes = run(n_model, env, training=np.append(np.zeros(training_size), [testing_size]),\n",
    "                                     verbose=False)\n",
    "                df_ = pd.DataFrame({'reward': rewards, \"mode\": modes})\n",
    "                df_['run'] = i\n",
    "                df_['alpha'] = alpha\n",
    "                df_['temp'] = temp\n",
    "                df_['type'] = type_\n",
    "                if df is None:\n",
    "                    df = df_\n",
    "                else:\n",
    "                    df = pd.concat([df, df_])"
   ]
  },
  {
   "cell_type": "markdown",
   "id": "db345a0b",
   "metadata": {},
   "source": [
    "<div style=\"border-bottom: 3px solid black; margin-bottom:5px\"></div>\n",
    "<div style=\"border-bottom: 3px solid black; margin-bottom:5px\"></div>\n",
    "\n",
    "## Tabular RL\n",
    "Pick 3 settings of the temperature parameter used in the exploration and 3 settings of the learning rate. You need to plot:"
   ]
  },
  {
   "cell_type": "markdown",
   "id": "70b1b751",
   "metadata": {},
   "source": [
    "#### First plot"
   ]
  },
  {
   "cell_type": "markdown",
   "id": "77798d4d",
   "metadata": {},
   "source": [
    "One u-shaped graph that shows the effect of the parameters on the final training performance,\n",
    "expressed as the return of the agent (averaged over the last 10 training episodes and the 10\n",
    "runs); note that this will typically end up as an upside-down u."
   ]
  },
  {
   "cell_type": "code",
   "execution_count": 45,
   "id": "4fe6d6d3",
   "metadata": {},
   "outputs": [],
   "source": [
    "df_training = df[df['mode'] == 0]  # getting training\n",
    "\n",
    "reward_runs = {'type': [], 'alpha': [], 'temp': [], 'reward': []}\n",
    "for model in df_training['type'].unique():\n",
    "    df_ = df_training[df_training['type'] == model].copy()\n",
    "    df_ = df_[['alpha', 'temp', 'reward', 'run']]\n",
    "\n",
    "    for i, group in df_.groupby(['alpha', 'temp', 'run']):  # each config result\n",
    "        reward = group['reward'].tail(10).mean()\n",
    "        a = list(group['alpha'])[0]\n",
    "        t = list(group['temp'])[0]\n",
    "\n",
    "        reward_runs['type'].append(model)\n",
    "        reward_runs['alpha'].append(a)\n",
    "        reward_runs['temp'].append(t)\n",
    "        reward_runs['reward'].append(reward)\n",
    "\n",
    "df_ = pd.DataFrame.from_dict(reward_runs)\n",
    "df_ = df_.groupby(['type', 'alpha', 'temp']).mean().reset_index()\n"
   ]
  },
  {
   "cell_type": "code",
   "execution_count": 46,
   "id": "02f52c52",
   "metadata": {
    "scrolled": true
   },
   "outputs": [
    {
     "data": {
      "text/html": [
       "<div>\n",
       "<style scoped>\n",
       "    .dataframe tbody tr th:only-of-type {\n",
       "        vertical-align: middle;\n",
       "    }\n",
       "\n",
       "    .dataframe tbody tr th {\n",
       "        vertical-align: top;\n",
       "    }\n",
       "\n",
       "    .dataframe thead th {\n",
       "        text-align: right;\n",
       "    }\n",
       "</style>\n",
       "<table border=\"1\" class=\"dataframe\">\n",
       "  <thead>\n",
       "    <tr style=\"text-align: right;\">\n",
       "      <th></th>\n",
       "      <th>type</th>\n",
       "      <th>alpha</th>\n",
       "      <th>temp</th>\n",
       "      <th>reward</th>\n",
       "    </tr>\n",
       "  </thead>\n",
       "  <tbody>\n",
       "    <tr>\n",
       "      <th>8</th>\n",
       "      <td>classic</td>\n",
       "      <td>0.85</td>\n",
       "      <td>0.10</td>\n",
       "      <td>0.07</td>\n",
       "    </tr>\n",
       "    <tr>\n",
       "      <th>9</th>\n",
       "      <td>expected</td>\n",
       "      <td>0.15</td>\n",
       "      <td>0.00</td>\n",
       "      <td>0.00</td>\n",
       "    </tr>\n",
       "    <tr>\n",
       "      <th>10</th>\n",
       "      <td>expected</td>\n",
       "      <td>0.15</td>\n",
       "      <td>0.01</td>\n",
       "      <td>0.31</td>\n",
       "    </tr>\n",
       "    <tr>\n",
       "      <th>11</th>\n",
       "      <td>expected</td>\n",
       "      <td>0.15</td>\n",
       "      <td>0.10</td>\n",
       "      <td>0.04</td>\n",
       "    </tr>\n",
       "    <tr>\n",
       "      <th>12</th>\n",
       "      <td>expected</td>\n",
       "      <td>0.50</td>\n",
       "      <td>0.00</td>\n",
       "      <td>0.00</td>\n",
       "    </tr>\n",
       "    <tr>\n",
       "      <th>13</th>\n",
       "      <td>expected</td>\n",
       "      <td>0.50</td>\n",
       "      <td>0.01</td>\n",
       "      <td>0.64</td>\n",
       "    </tr>\n",
       "    <tr>\n",
       "      <th>14</th>\n",
       "      <td>expected</td>\n",
       "      <td>0.50</td>\n",
       "      <td>0.10</td>\n",
       "      <td>0.04</td>\n",
       "    </tr>\n",
       "    <tr>\n",
       "      <th>15</th>\n",
       "      <td>expected</td>\n",
       "      <td>0.85</td>\n",
       "      <td>0.00</td>\n",
       "      <td>0.02</td>\n",
       "    </tr>\n",
       "    <tr>\n",
       "      <th>16</th>\n",
       "      <td>expected</td>\n",
       "      <td>0.85</td>\n",
       "      <td>0.01</td>\n",
       "      <td>0.16</td>\n",
       "    </tr>\n",
       "    <tr>\n",
       "      <th>17</th>\n",
       "      <td>expected</td>\n",
       "      <td>0.85</td>\n",
       "      <td>0.10</td>\n",
       "      <td>0.01</td>\n",
       "    </tr>\n",
       "  </tbody>\n",
       "</table>\n",
       "</div>"
      ],
      "text/plain": [
       "        type  alpha  temp  reward\n",
       "8    classic   0.85  0.10    0.07\n",
       "9   expected   0.15  0.00    0.00\n",
       "10  expected   0.15  0.01    0.31\n",
       "11  expected   0.15  0.10    0.04\n",
       "12  expected   0.50  0.00    0.00\n",
       "13  expected   0.50  0.01    0.64\n",
       "14  expected   0.50  0.10    0.04\n",
       "15  expected   0.85  0.00    0.02\n",
       "16  expected   0.85  0.01    0.16\n",
       "17  expected   0.85  0.10    0.01"
      ]
     },
     "execution_count": 46,
     "metadata": {},
     "output_type": "execute_result"
    }
   ],
   "source": [
    "df_.tail(10)"
   ]
  },
  {
   "cell_type": "code",
   "execution_count": 66,
   "id": "cba2c386",
   "metadata": {},
   "outputs": [
    {
     "name": "stderr",
     "output_type": "stream",
     "text": [
      "C:\\Users\\almei\\AppData\\Local\\Temp\\ipykernel_22592\\1455600413.py:8: UserWarning: Boolean Series key will be reindexed to match DataFrame index.\n",
      "  list(df_.loc[df_['alpha'] == alpha][df_['temp'] == temperature][df_['type'] == model]['reward'])[0])\n"
     ]
    },
    {
     "data": {
      "image/png": "[encoded data removed]",
      "text/plain": [
       "<Figure size 1200x700 with 2 Axes>"
      ]
     },
     "metadata": {},
     "output_type": "display_data"
    }
   ],
   "source": [
    "fig, ax = plt.subplots(1, 2, figsize=(12, 7))\n",
    "\n",
    "for m, model in enumerate(df_['type'].unique()):\n",
    "    for j, temperature in enumerate(df_['temp'].unique()):\n",
    "        line_values = []\n",
    "        for i, alpha in enumerate(df_['alpha'].unique()):\n",
    "            line_values.append(\n",
    "                list(df_.loc[df_['alpha'] == alpha][df_['temp'] == temperature][df_['type'] == model]['reward'])[0])\n",
    "\n",
    "        ax[m].plot(df_['alpha'].unique(),line_values, label=f'Temperature = {str(temperature)}')\n",
    "        ax[m].legend()\n",
    "        ax[m].set_xlabel(\"alpha\")\n",
    "        ax[m].set_title(f\"{model} sarsa\")\n",
    "\n",
    "# plt.subplot(1,1,1)\n",
    "ax[0].set_ylabel(\"AVG reward\")\n",
    "plt.show()"
   ]
  },
  {
   "cell_type": "markdown",
   "id": "4eeb9d7b",
   "metadata": {},
   "source": [
    "For the choice of parameters, one of the temperatures was chosen as zero because "
   ]
  },
  {
   "cell_type": "markdown",
   "id": "668a46b5",
   "metadata": {},
   "source": [
    "#### Second plot"
   ]
  },
  {
   "cell_type": "markdown",
   "id": "86f8991e",
   "metadata": {},
   "source": [
    "One u-shaped graph that shows the effect of the parameters on the final testing performance,\n",
    "expressed as the return of the agent (during the final testing episode, averaged over the 10\n",
    "runs)"
   ]
  },
  {
   "cell_type": "code",
   "execution_count": 49,
   "id": "5e54cbcd",
   "metadata": {},
   "outputs": [],
   "source": [
    "df_testing = df[df['mode'] == 1]  # getting training\n",
    "\n",
    "reward_runs = {'type': [], 'alpha': [], 'temp': [], 'reward': []}\n",
    "for model in df_testing['type'].unique():\n",
    "    df_2 = df_testing[df_testing['type'] == model].copy()\n",
    "    df_2 = df_2[['alpha', 'temp', 'reward', 'run']]\n",
    "\n",
    "    for i, group in df_2.groupby(['alpha', 'temp', 'run']):  # each config result\n",
    "        reward = group['reward'].tail(10).mean()\n",
    "        a = list(group['alpha'])[0]\n",
    "        t = list(group['temp'])[0]\n",
    "\n",
    "        reward_runs['type'].append(model)\n",
    "        reward_runs['alpha'].append(a)\n",
    "        reward_runs['temp'].append(t)\n",
    "        reward_runs['reward'].append(reward)\n",
    "\n",
    "df_2 = pd.DataFrame.from_dict(reward_runs)\n",
    "df_2 = df_2.groupby(['type', 'alpha', 'temp']).mean().reset_index()"
   ]
  },
  {
   "cell_type": "code",
   "execution_count": 53,
   "id": "5615f67f",
   "metadata": {},
   "outputs": [
    {
     "data": {
      "text/html": [
       "<div>\n",
       "<style scoped>\n",
       "    .dataframe tbody tr th:only-of-type {\n",
       "        vertical-align: middle;\n",
       "    }\n",
       "\n",
       "    .dataframe tbody tr th {\n",
       "        vertical-align: top;\n",
       "    }\n",
       "\n",
       "    .dataframe thead th {\n",
       "        text-align: right;\n",
       "    }\n",
       "</style>\n",
       "<table border=\"1\" class=\"dataframe\">\n",
       "  <thead>\n",
       "    <tr style=\"text-align: right;\">\n",
       "      <th></th>\n",
       "      <th>type</th>\n",
       "      <th>alpha</th>\n",
       "      <th>temp</th>\n",
       "      <th>reward</th>\n",
       "    </tr>\n",
       "  </thead>\n",
       "  <tbody>\n",
       "    <tr>\n",
       "      <th>8</th>\n",
       "      <td>classic</td>\n",
       "      <td>0.85</td>\n",
       "      <td>0.10</td>\n",
       "      <td>0.06</td>\n",
       "    </tr>\n",
       "    <tr>\n",
       "      <th>9</th>\n",
       "      <td>expected</td>\n",
       "      <td>0.15</td>\n",
       "      <td>0.00</td>\n",
       "      <td>0.02</td>\n",
       "    </tr>\n",
       "    <tr>\n",
       "      <th>10</th>\n",
       "      <td>expected</td>\n",
       "      <td>0.15</td>\n",
       "      <td>0.01</td>\n",
       "      <td>0.32</td>\n",
       "    </tr>\n",
       "    <tr>\n",
       "      <th>11</th>\n",
       "      <td>expected</td>\n",
       "      <td>0.15</td>\n",
       "      <td>0.10</td>\n",
       "      <td>0.20</td>\n",
       "    </tr>\n",
       "    <tr>\n",
       "      <th>12</th>\n",
       "      <td>expected</td>\n",
       "      <td>0.50</td>\n",
       "      <td>0.00</td>\n",
       "      <td>0.00</td>\n",
       "    </tr>\n",
       "    <tr>\n",
       "      <th>13</th>\n",
       "      <td>expected</td>\n",
       "      <td>0.50</td>\n",
       "      <td>0.01</td>\n",
       "      <td>0.66</td>\n",
       "    </tr>\n",
       "    <tr>\n",
       "      <th>14</th>\n",
       "      <td>expected</td>\n",
       "      <td>0.50</td>\n",
       "      <td>0.10</td>\n",
       "      <td>0.08</td>\n",
       "    </tr>\n",
       "    <tr>\n",
       "      <th>15</th>\n",
       "      <td>expected</td>\n",
       "      <td>0.85</td>\n",
       "      <td>0.00</td>\n",
       "      <td>0.02</td>\n",
       "    </tr>\n",
       "    <tr>\n",
       "      <th>16</th>\n",
       "      <td>expected</td>\n",
       "      <td>0.85</td>\n",
       "      <td>0.01</td>\n",
       "      <td>0.26</td>\n",
       "    </tr>\n",
       "    <tr>\n",
       "      <th>17</th>\n",
       "      <td>expected</td>\n",
       "      <td>0.85</td>\n",
       "      <td>0.10</td>\n",
       "      <td>0.04</td>\n",
       "    </tr>\n",
       "  </tbody>\n",
       "</table>\n",
       "</div>"
      ],
      "text/plain": [
       "        type  alpha  temp  reward\n",
       "8    classic   0.85  0.10    0.06\n",
       "9   expected   0.15  0.00    0.02\n",
       "10  expected   0.15  0.01    0.32\n",
       "11  expected   0.15  0.10    0.20\n",
       "12  expected   0.50  0.00    0.00\n",
       "13  expected   0.50  0.01    0.66\n",
       "14  expected   0.50  0.10    0.08\n",
       "15  expected   0.85  0.00    0.02\n",
       "16  expected   0.85  0.01    0.26\n",
       "17  expected   0.85  0.10    0.04"
      ]
     },
     "execution_count": 53,
     "metadata": {},
     "output_type": "execute_result"
    }
   ],
   "source": [
    "df_2.tail(10)"
   ]
  },
  {
   "cell_type": "code",
   "execution_count": 65,
   "id": "1aa97515",
   "metadata": {},
   "outputs": [
    {
     "name": "stderr",
     "output_type": "stream",
     "text": [
      "C:\\Users\\almei\\AppData\\Local\\Temp\\ipykernel_22592\\2820524023.py:8: UserWarning: Boolean Series key will be reindexed to match DataFrame index.\n",
      "  list(df_2.loc[df_2['alpha'] == alpha][df_2['temp'] == temperature][df_2['type'] == model]['reward'])[0])\n"
     ]
    },
    {
     "data": {
      "image/png": "[encoded data removed]",
      "text/plain": [
       "<Figure size 1200x700 with 2 Axes>"
      ]
     },
     "metadata": {},
     "output_type": "display_data"
    }
   ],
   "source": [
    "fig, ax = plt.subplots(1, 2, figsize=(12, 7))\n",
    "\n",
    "for m, model in enumerate(df_2['type'].unique()):\n",
    "    for j, temperature in enumerate(df_2['temp'].unique()):\n",
    "        line_values = []\n",
    "        for i, alpha in enumerate(df_2['alpha'].unique()):\n",
    "            \n",
    "            line_values.append(\n",
    "                list(df_2.loc[df_2['alpha'] == alpha][df_2['temp'] == temperature][df_2['type'] == model]['reward'])[0])\n",
    "\n",
    "        ax[m].plot(df_2['alpha'].unique(),line_values, label=f'Temperature = {str(temperature)}')\n",
    "        ax[m].legend()\n",
    "        ax[m].set_xlabel(\"alpha\")\n",
    "        ax[m].set_title(f\"{model} sarsa\")\n",
    "\n",
    "# plt.subplot(1,1,1)\n",
    "ax[0].set_ylabel(\"AVG reward\")\n",
    "plt.show()"
   ]
  },
  {
   "cell_type": "markdown",
   "id": "62f49d43",
   "metadata": {},
   "source": [
    "#### Third plot"
   ]
  },
  {
   "cell_type": "markdown",
   "id": "f9fa21a6",
   "metadata": {},
   "source": [
    "Learning curves (mean and standard deviation computed based on the 10 runs) for what you\n",
    "pick as the best parameter setting for each algorithm"
   ]
  },
  {
   "cell_type": "code",
   "execution_count": 73,
   "id": "453caa90",
   "metadata": {},
   "outputs": [
    {
     "data": {
      "image/png": "[encoded data removed]",
      "text/plain": [
       "<Figure size 1200x700 with 9 Axes>"
      ]
     },
     "metadata": {},
     "output_type": "display_data"
    }
   ],
   "source": [
    "fig, ax = plt.subplots(len(learning_rates), len(temperatures), sharey='row', sharex='col', figsize=(12, 7))\n",
    "\n",
    "ax[0][1].set_title(\"Reward over training steps\", y=1.2, fontsize=20)\n",
    "\n",
    "for i, alpha in enumerate(learning_rates):\n",
    "\n",
    "    for j, temperature in enumerate(temperatures):\n",
    "        #         if i == 0:\n",
    "        #             text = ax[i][j].text(0,1.1,f\"Temp: {temperature}\", size=12)\n",
    "\n",
    "        # if j == 0 and i == 1:\n",
    "        #     ax[i][j].set_ylabel(f'Avg Reward over last {rolling_window} steps and all {n_runs} runs', fontsize=12)\n",
    "\n",
    "        #         if j == 2:\n",
    "        #             text = ax[i][j].text(0,.2,f\"Alpha: {alpha}\", size=12, rotation=270)\n",
    "\n",
    "        # if j == 1 and i == 2:\n",
    "        #     ax[i][j].set_xlabel(f'Training step', fontsize=12)\n",
    "\n",
    "        for model in model_name:\n",
    "            runs_values = []\n",
    "            mini_df = df[(df['alpha'] == alpha) & (df['temp'] == temperature) & (df['type'] == model)][['reward','run']]\n",
    "            for k, group in mini_df.groupby('run'):\n",
    "                runs_values.append(list(group['reward']))\n",
    "            runs_values = np.mean(np.array(runs_values).T, axis=0)\n",
    "            ax[i][j].plot(list(range(len(runs_values.T))), runs_values.T, label=model)\n",
    "            ax[i][j].legend()\n",
    "            ax[i][j].grid(visible=True)"
   ]
  },
  {
   "cell_type": "code",
   "execution_count": null,
   "id": "72cc6b7e",
   "metadata": {},
   "outputs": [],
   "source": []
  },
  {
   "cell_type": "markdown",
   "id": "494f9609",
   "metadata": {},
   "source": [
    "<div style=\"border-bottom: 3px solid black; margin-bottom:5px\"></div>\n",
    "<div style=\"border-bottom: 3px solid black; margin-bottom:5px\"></div>\n",
    "\n",
    "## Building Cart Pole ( Q-learning / ACTOR CRITIC)"
   ]
  },
  {
   "cell_type": "code",
   "execution_count": 74,
   "id": "bc0faecf",
   "metadata": {},
   "outputs": [
    {
     "data": {
      "text/plain": [
       "(array([ 0.02660995,  0.02352699, -0.00013359, -0.00383121], dtype=float32),\n",
       " {})"
      ]
     },
     "execution_count": 74,
     "metadata": {},
     "output_type": "execute_result"
    }
   ],
   "source": [
    "env = gym.make('CartPole-v1')\n",
    "env.reset()"
   ]
  },
  {
   "cell_type": "markdown",
   "id": "bd6d6c45",
   "metadata": {},
   "source": [
    "<div style=\"border-bottom: 3px solid black; margin-bottom:5px\"></div>\n",
    "\n",
    "## Building Q-learning class"
   ]
  },
  {
   "cell_type": "code",
   "execution_count": 75,
   "id": "cf507f6b",
   "metadata": {},
   "outputs": [],
   "source": [
    "class qlearning:\n",
    "    def __init__(self, env, alpha=.85, gamma=.95, epsilon=.1, bins=10):\n",
    "        self.a = alpha\n",
    "        self.g = gamma\n",
    "        self.q = self.gen_table(env, bins)\n",
    "        self.e = epsilon\n",
    "        self.n_bins = bins\n",
    "\n",
    "        # changing bounds into more compact values to speed up training (fewer bins needed for this accuracy):\n",
    "        self.env_space = [[3, -3],\n",
    "                          [6, -6],\n",
    "                          [0.300, -0.300],\n",
    "                          [5, -5]]\n",
    "\n",
    "        return\n",
    "\n",
    "    def gen_table(self, env, bins):\n",
    "        action_dim = env.action_space.n\n",
    "\n",
    "        table = np.random.uniform(low=-0.001, high=0.001, size=(bins, bins, bins, bins, action_dim))\n",
    "\n",
    "        self.q = table\n",
    "        return self.q\n",
    "\n",
    "    def update(self, reward, state, action, next_state):\n",
    "        a, b, c, d, e = self.get_s(state, action)\n",
    "        a_, b_, c_, d_ = self.get_s(next_state)\n",
    "\n",
    "        self.q[a][b][c][d][e] = self.q[a][b][c][d][e] + self.a * (\n",
    "                reward + self.g * np.max(self.q[a_][b_][c_][d_]) - self.q[a][b][c][d][e])\n",
    "\n",
    "        return None\n",
    "\n",
    "    def choose(self, env, state):\n",
    "\n",
    "        if rnd.random() < self.e:\n",
    "            # random sampling\n",
    "            chosen = rnd.choice(list(range(env.action_space.n)))\n",
    "        else:\n",
    "            # greedy choice\n",
    "            table = self.q\n",
    "            for miniState in self.get_s(state):\n",
    "                table = table[miniState]\n",
    "\n",
    "            chosen = np.argmax(table)\n",
    "        return chosen\n",
    "\n",
    "    def get_s(self, state, action=None):\n",
    "        indexes = []\n",
    "        for i, feature in enumerate(state):\n",
    "            max_value = self.env_space[i][0]\n",
    "            min_value = self.env_space[i][1]\n",
    "\n",
    "            if (feature > max_value) or (feature < min_value):\n",
    "                raise ValueError(\n",
    "                    f\"Feature out of bounds for feature{str(i)} on bins : {str(feature)}  |min : {str(min_value)} - \"\n",
    "                    f\"max :{str(max_value)}|\")\n",
    "            window_size = (max_value - min_value) / self.n_bins\n",
    "            bin_loc = (feature - min_value) // window_size\n",
    "            indexes.append(int(bin_loc))\n",
    "\n",
    "        if action is None:\n",
    "            return indexes\n",
    "        else:\n",
    "            return indexes + [action]"
   ]
  },
  {
   "cell_type": "markdown",
   "id": "3d0fcb04",
   "metadata": {},
   "source": [
    "<div style=\"border-bottom: 3px solid black; margin-bottom:5px\"></div>\n",
    "\n",
    "## Building the training process"
   ]
  },
  {
   "cell_type": "code",
   "execution_count": 76,
   "id": "a3c032dc",
   "metadata": {},
   "outputs": [],
   "source": [
    "# defining one episode\n",
    "def episode(model, env, render=False, penalty=250):\n",
    "    state = env.reset()[0]\n",
    "    if render:\n",
    "        env.render()\n",
    "    ended = False\n",
    "    ep_reward = 0\n",
    "\n",
    "    while not ended:\n",
    "\n",
    "        action = model.choose(env, state)\n",
    "\n",
    "        # take A from S and get S'\n",
    "        new_state, reward, ended, time_limit, prob = env.step(action)\n",
    "\n",
    "        if ended:\n",
    "            reward -= penalty\n",
    "\n",
    "        model.update(reward, state, action, new_state)\n",
    "\n",
    "        # S <- S'\n",
    "        state = new_state\n",
    "        ep_reward += reward\n",
    "        if time_limit:\n",
    "            break\n",
    "\n",
    "    if render:\n",
    "        env.close()\n",
    "    return ep_reward"
   ]
  },
  {
   "cell_type": "code",
   "execution_count": 77,
   "id": "17d7dac1",
   "metadata": {},
   "outputs": [],
   "source": [
    "# defining process for each of the runs\n",
    "def run(model, env, episode_n=1000, verbose=True, penalty=250):\n",
    "    run_results = []\n",
    "    for i, mode in enumerate(range(episode_n)):\n",
    "        if verbose and (len(run_results) > 1):\n",
    "            print(f\"\\n{i + 1}th Segment: {np.mean(run_results)} avg reward\", end='')\n",
    "        reward = episode(model, env, penalty=penalty)\n",
    "        run_results.append(reward)\n",
    "\n",
    "    return run_results"
   ]
  },
  {
   "cell_type": "markdown",
   "id": "6bbcf803",
   "metadata": {},
   "source": [
    "<div style=\"border-bottom: 3px solid black; margin-bottom:5px\"></div>\n",
    "<div style=\"border-bottom: 3px solid black; margin-bottom:5px\"></div>\n",
    "\n",
    "\n",
    "## Running the models"
   ]
  },
  {
   "cell_type": "code",
   "execution_count": 78,
   "id": "9efb88a1",
   "metadata": {},
   "outputs": [],
   "source": [
    "# configurations\n",
    "n_bins = 10\n",
    "\n",
    "epsilons = [.1, .2, .5]\n",
    "learning_rates = [1 / 4, 1 / 8, 1 / 16]\n",
    "\n",
    "n_runs = 10\n",
    "rolling_window = 10\n",
    "\n",
    "training_size = 10\n",
    "testing_size = 1\n",
    "df = None"
   ]
  },
  {
   "cell_type": "code",
   "execution_count": null,
   "id": "0bfe2ff9",
   "metadata": {},
   "outputs": [
    {
     "name": "stdout",
     "output_type": "stream",
     "text": [
      "Training on |Epsilon: 0.1\t| Alpha: 0.25\n"
     ]
    }
   ],
   "source": [
    "# Runing the training\n",
    "\n",
    "for alpha in learning_rates:\n",
    "    for epsilon in epsilons:\n",
    "        print(f'Training on |Epsilon: {str(epsilon)}\\t| Alpha: {str(alpha)}')\n",
    "\n",
    "        episode_results = []\n",
    "        for i in range(n_runs):\n",
    "            result_df = pd.DataFrame()\n",
    "            # creating model copies for each run\n",
    "            n_model = qlearning(env, alpha=alpha, epsilon=epsilon, bins=n_bins)\n",
    "            result_df['ep_reward'] = run(n_model, env, verbose=False)\n",
    "            result_df['alpha'] = alpha\n",
    "            result_df['epsilon'] = epsilon\n",
    "            result_df['run'] = i\n",
    "            if df is None:\n",
    "                df = result_df.copy()\n",
    "            else:\n",
    "                df = pd.concat([df, result_df])"
   ]
  },
  {
   "cell_type": "code",
   "execution_count": null,
   "id": "0e78e329",
   "metadata": {},
   "outputs": [],
   "source": [
    "# saving dataset if desired\n",
    "# df.to_csv('Qlearning.csv', index=False, sep=';', encoding='utf-8')"
   ]
  },
  {
   "cell_type": "code",
   "execution_count": null,
   "id": "a03b1280",
   "metadata": {},
   "outputs": [],
   "source": []
  },
  {
   "cell_type": "markdown",
   "id": "c85bd091",
   "metadata": {},
   "source": [
    "<div style=\"border-bottom: 3px solid black; margin-bottom:5px\"></div>\n",
    "\n",
    "## Actor critic "
   ]
  },
  {
   "cell_type": "code",
   "execution_count": null,
   "id": "77ff51e9",
   "metadata": {},
   "outputs": [],
   "source": [
    "num_states = 10 ** len(env.reset()[0])\n",
    "num_actions = env.action_space.n\n",
    "policy = np.ones((num_states, num_actions)) / num_actions\n",
    "V = np.zeros(num_states) # value function\n",
    "\n",
    "# Set alpha  and gamma\n",
    "alpha_critic = 0.1\n",
    "alpha_actor = 0.01\n",
    "g = 0.99\n",
    "e = .2\n"
   ]
  },
  {
   "cell_type": "code",
   "execution_count": null,
   "id": "c8ecda67",
   "metadata": {},
   "outputs": [],
   "source": [
    "# tabular state value function\n",
    "def get_s(s, n_bins=10):\n",
    "    env_space = [[3, -3],\n",
    "                 [6, -6],\n",
    "                 [0.300, -0.300],\n",
    "                 [5, -5]]\n",
    "    indexes = 0\n",
    "    for i, feature in enumerate(s):\n",
    "        max_value = env_space[i][0]\n",
    "        min_value = env_space[i][1]\n",
    "\n",
    "        if (feature > max_value) or (feature < min_value):\n",
    "            raise ValueError(\n",
    "                f\"Feature out of bounds for feature{str(i)} on bins : {str(feature)}  |min : {str(min_value)} - \"\n",
    "                f\"max :{str(max_value)}|\")\n",
    "        window_size = (max_value - min_value) / n_bins\n",
    "        bin_loc = (feature - min_value) // window_size\n",
    "        indexes += int(bin_loc) * (10 ** i)\n",
    "\n",
    "    return indexes"
   ]
  },
  {
   "cell_type": "code",
   "execution_count": null,
   "id": "9e4d5b61",
   "metadata": {},
   "outputs": [],
   "source": [
    "# Run the main loop\n",
    "run_ac():\n",
    "    rewards_history = [0, 0, 0, 0, 0, 0, 0, 0, 0]\n",
    "    for episode in range(1000):\n",
    "        state = get_s(env.reset()[0])\n",
    "        done = False\n",
    "\n",
    "        # eligibility traces\n",
    "        z_critic = np.zeros(num_states)\n",
    "        z_actor = np.zeros((num_states, num_actions))\n",
    "\n",
    "        history = []\n",
    "\n",
    "        while not done:\n",
    "\n",
    "            action_probs = np.exp(policy[state]) / np.sum(np.exp(policy[state]))\n",
    "\n",
    "            # e-greedy\n",
    "            if rnd.random() < e:\n",
    "                action = rnd.choice(list(range(num_actions)))  # random action to increase exploration\n",
    "            else:\n",
    "                action = np.random.choice(num_actions, p=action_probs)  # softmax action\n",
    "\n",
    "            # Take action A observe S', R\n",
    "            next_state, reward, done, _, _ = env.step(action)\n",
    "            next_state = get_s(next_state)\n",
    "\n",
    "            # if S' is terminal then v S' = 0\n",
    "            target = reward + g * V[next_state] if not done else reward\n",
    "            TD_error = target - V[state]\n",
    "            V[state] += alpha_critic * TD_error\n",
    "\n",
    "            # Update the eligibility traces for the critic and actor\n",
    "            z_critic[state] += 1\n",
    "            z_actor[state, action] += 1\n",
    "\n",
    "            # Update\n",
    "            grad_log_policy = z_actor / (np.sum(z_actor, axis=1, keepdims=True) + 1e-8)\n",
    "            policy[state] += alpha_actor * TD_error * grad_log_policy[state]\n",
    "\n",
    "            # over-time decay of the traces\n",
    "            z_critic *= g\n",
    "            z_actor *= g\n",
    "\n",
    "            # S <- S'\n",
    "            state = next_state\n",
    "\n",
    "            history.append(reward)\n",
    "\n",
    "\n",
    "        episode_reward = sum(history)\n",
    "        rewards_history.append(episode_reward)\n",
    "        print(f\"Episode {episode}: reward={episode_reward} | rolling avg of last 10 epsodes: {np.mean(rewards_history[-10:])}\")\n",
    "    return rewards_history"
   ]
  },
  {
   "cell_type": "code",
   "execution_count": null,
   "id": "0df5b2f8",
   "metadata": {},
   "outputs": [],
   "source": []
  },
  {
   "cell_type": "markdown",
   "id": "eccb87a5",
   "metadata": {},
   "source": [
    "<div style=\"border-bottom: 3px solid black; margin-bottom:5px\"></div>\n",
    "<div style=\"border-bottom: 3px solid black; margin-bottom:5px\"></div>\n",
    "\n",
    "## Results\n"
   ]
  },
  {
   "cell_type": "code",
   "execution_count": null,
   "id": "8a1e6c09",
   "metadata": {},
   "outputs": [],
   "source": []
  }
 ],
 "metadata": {
  "kernelspec": {
   "display_name": "Python 3 (ipykernel)",
   "language": "python",
   "name": "python3"
  },
  "language_info": {
   "codemirror_mode": {
    "name": "ipython",
    "version": 3
   },
   "file_extension": ".py",
   "mimetype": "text/x-python",
   "name": "python",
   "nbconvert_exporter": "python",
   "pygments_lexer": "ipython3",
   "version": "3.8.13"
  }
 },
 "nbformat": 4,
 "nbformat_minor": 5
}
